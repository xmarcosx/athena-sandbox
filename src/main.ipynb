{
 "cells": [
  {
   "cell_type": "code",
   "execution_count": null,
   "source": [
    "import os\n",
    "\n",
    "import pandas as pd\n",
    "from pyathena import connect\n",
    "\n",
    "\n",
    "aws_key = os.environ['AWS_KEY']\n",
    "aws_secret = os.environ['AWS_SECRET']\n",
    "\n",
    "bucket_name = os.environ['S3_BUCKET_NAME']\n",
    "region = os.environ['REGION']\n",
    "\n",
    "connection = connect(aws_access_key_id=aws_key,\n",
    "                 aws_secret_access_key=aws_secret,\n",
    "                 schema_name='marcos-sandbox',\n",
    "                 s3_staging_dir=f's3://{bucket_name}/staging',\n",
    "                 region_name=region\n",
    "        )\n",
    "\n",
    "# cursor.execute(\"SELECT * FROM studentlocaleducationagencydim\")\n",
    "# print(cursor.description)\n",
    "# print(cursor.fetchall())\n",
    "\n",
    "df = pd.read_sql_query(\"SELECT * FROM studentlocaleducationagencydim\", connection)\n",
    "\n",
    "df[['studentkey', 'studentlastname', 'studentfirstname']].head()\n"
   ],
   "outputs": [],
   "metadata": {}
  },
  {
   "cell_type": "code",
   "execution_count": null,
   "source": [],
   "outputs": [],
   "metadata": {}
  }
 ],
 "metadata": {
  "orig_nbformat": 4,
  "language_info": {
   "name": "python"
  }
 },
 "nbformat": 4,
 "nbformat_minor": 2
}