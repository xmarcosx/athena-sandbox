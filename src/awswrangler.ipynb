{
 "cells": [
  {
   "cell_type": "markdown",
   "source": [
    "# Athena Samples\n",
    "## Imports"
   ],
   "metadata": {}
  },
  {
   "cell_type": "code",
   "execution_count": null,
   "source": [
    "import os\n",
    "\n",
    "import awswrangler as wr\n",
    "import pandas as pd\n",
    "from pyathena import connect\n",
    "from urllib.parse import quote_plus\n",
    "from sqlalchemy import create_engine\n",
    "\n",
    "import boto3\n",
    "\n",
    "aws_key = os.environ['AWS_KEY']\n",
    "aws_secret = os.environ['AWS_SECRET']\n",
    "\n",
    "bucket_name = os.environ['S3_BUCKET_NAME']\n",
    "staging_bucket_name = os.environ['S3_STAGING_BUCKET_NAME']\n",
    "region = os.environ['REGION']\n",
    "schema_name='marcosraw'\n",
    "s3_staging_dir=f's3://{staging_bucket_name}/pyathena-staging/'\n",
    "s3_dir=f's3://{bucket_name}/'\n"
   ],
   "outputs": [],
   "metadata": {}
  },
  {
   "cell_type": "markdown",
   "source": [
    "## Query Athena"
   ],
   "metadata": {}
  },
  {
   "cell_type": "code",
   "execution_count": null,
   "source": [
    "df = wr.athena.read_sql_query(\"SELECT * FROM studentlocaleducationagencydim\", database=schema_name, ctas_approach=True)\n",
    "\n",
    "df[['studentkey', 'studentlastname', 'studentfirstname']].head()"
   ],
   "outputs": [],
   "metadata": {}
  },
  {
   "cell_type": "markdown",
   "source": [
    "## Load into Athena"
   ],
   "metadata": {}
  },
  {
   "cell_type": "code",
   "execution_count": null,
   "source": [
    "if schema_name not in wr.catalog.databases().values:\n",
    "    wr.catalog.create_database(schema_name)\n",
    "\n",
    "df = pd.DataFrame({\"a\": [1, 2, 3, 4, 5]})\n",
    "\n",
    "table = 'sampledb'\n",
    "\n",
    "wr.s3.to_parquet(\n",
    "    df=df,\n",
    "    path=f'{s3_dir}{schema_name}/{table}',\n",
    "    dataset=True, # If True store a parquet dataset instead of an ordinary file\n",
    "    #mode='overwrite',\n",
    "    #partition_cols=['col2'],\n",
    "    #database=schema_name,\n",
    "    #table=table\n",
    ");"
   ],
   "outputs": [],
   "metadata": {}
  },
  {
   "cell_type": "code",
   "execution_count": null,
   "source": [
    "wr.catalog.table(database=schema_name, table=\"studentlocaleducationagencydim\")"
   ],
   "outputs": [],
   "metadata": {}
  }
 ],
 "metadata": {
  "orig_nbformat": 4,
  "language_info": {
   "name": "python"
  }
 },
 "nbformat": 4,
 "nbformat_minor": 2
}