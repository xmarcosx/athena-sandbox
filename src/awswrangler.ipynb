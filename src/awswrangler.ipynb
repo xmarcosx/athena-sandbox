{
 "cells": [
  {
   "cell_type": "markdown",
   "source": [
    "# Athena Samples\n",
    "## Imports"
   ],
   "metadata": {}
  },
  {
   "cell_type": "code",
   "execution_count": 11,
   "source": [
    "import os\n",
    "\n",
    "import awswrangler as wr\n",
    "import pandas as pd\n",
    "from pyathena import connect\n",
    "from urllib.parse import quote_plus\n",
    "from sqlalchemy import create_engine\n",
    "\n",
    "import boto3\n",
    "\n",
    "aws_key = os.environ['AWS_KEY']\n",
    "aws_secret = os.environ['AWS_SECRET']\n",
    "\n",
    "bucket_name = os.environ['S3_BUCKET_NAME']\n",
    "staging_bucket_name = os.environ['S3_STAGING_BUCKET_NAME']\n",
    "region = os.environ['REGION']\n",
    "schema_name='marcosraw'\n",
    "s3_staging_dir=f's3://{staging_bucket_name}/pyathena-staging/'\n",
    "s3_dir=f's3://{bucket_name}/'\n"
   ],
   "outputs": [],
   "metadata": {}
  },
  {
   "cell_type": "markdown",
   "source": [
    "## Query Athena"
   ],
   "metadata": {}
  },
  {
   "cell_type": "code",
   "execution_count": 16,
   "source": [
    "df = wr.athena.read_sql_query(\"SELECT * FROM studentlocaleducationagencydim\", database=schema_name, ctas_approach=True)\n",
    "\n",
    "df[['studentkey', 'studentlastname', 'studentfirstname']].head()"
   ],
   "outputs": [
    {
     "output_type": "execute_result",
     "data": {
      "text/plain": [
       "Empty DataFrame\n",
       "Columns: [studentkey, studentlastname, studentfirstname]\n",
       "Index: []"
      ],
      "text/html": [
       "<div>\n",
       "<style scoped>\n",
       "    .dataframe tbody tr th:only-of-type {\n",
       "        vertical-align: middle;\n",
       "    }\n",
       "\n",
       "    .dataframe tbody tr th {\n",
       "        vertical-align: top;\n",
       "    }\n",
       "\n",
       "    .dataframe thead th {\n",
       "        text-align: right;\n",
       "    }\n",
       "</style>\n",
       "<table border=\"1\" class=\"dataframe\">\n",
       "  <thead>\n",
       "    <tr style=\"text-align: right;\">\n",
       "      <th></th>\n",
       "      <th>studentkey</th>\n",
       "      <th>studentlastname</th>\n",
       "      <th>studentfirstname</th>\n",
       "    </tr>\n",
       "  </thead>\n",
       "  <tbody>\n",
       "  </tbody>\n",
       "</table>\n",
       "</div>"
      ]
     },
     "metadata": {},
     "execution_count": 16
    }
   ],
   "metadata": {}
  },
  {
   "cell_type": "markdown",
   "source": [
    "## Load into Athena"
   ],
   "metadata": {}
  },
  {
   "cell_type": "code",
   "execution_count": 15,
   "source": [
    "if schema_name not in wr.catalog.databases().values:\n",
    "    wr.catalog.create_database(schema_name)\n",
    "\n",
    "df = pd.DataFrame({\"a\": [1, 2, 3, 4, 5]})\n",
    "\n",
    "table = 'sampledb'\n",
    "\n",
    "wr.s3.to_parquet(\n",
    "    df=df,\n",
    "    path=f'{s3_dir}{schema_name}/{table}',\n",
    "    dataset=True,\n",
    "    mode='overwrite',\n",
    "    database=schema_name,\n",
    "    table=table\n",
    ");"
   ],
   "outputs": [],
   "metadata": {}
  },
  {
   "cell_type": "code",
   "execution_count": 14,
   "source": [
    "wr.catalog.table(database=schema_name, table=\"studentlocaleducationagencydim\")"
   ],
   "outputs": [
    {
     "output_type": "execute_result",
     "data": {
      "text/plain": [
       "                       Column Name     Type  Partition Comment\n",
       "0   studentlocaleducationagencykey   string      False        \n",
       "1                       studentkey   bigint      False        \n",
       "2          localeducationagencykey   bigint      False        \n",
       "3                 studentfirstname   string      False        \n",
       "4                studentmiddlename   string      False        \n",
       "5                  studentlastname   string      False        \n",
       "6        limitedenglishproficiency   string      False        \n",
       "7                       ishispanic  boolean      False        \n",
       "8                              sex   string      False        \n",
       "9                 lastmodifieddate   string      False        \n",
       "10                     extractdate   string       True        "
      ],
      "text/html": [
       "<div>\n",
       "<style scoped>\n",
       "    .dataframe tbody tr th:only-of-type {\n",
       "        vertical-align: middle;\n",
       "    }\n",
       "\n",
       "    .dataframe tbody tr th {\n",
       "        vertical-align: top;\n",
       "    }\n",
       "\n",
       "    .dataframe thead th {\n",
       "        text-align: right;\n",
       "    }\n",
       "</style>\n",
       "<table border=\"1\" class=\"dataframe\">\n",
       "  <thead>\n",
       "    <tr style=\"text-align: right;\">\n",
       "      <th></th>\n",
       "      <th>Column Name</th>\n",
       "      <th>Type</th>\n",
       "      <th>Partition</th>\n",
       "      <th>Comment</th>\n",
       "    </tr>\n",
       "  </thead>\n",
       "  <tbody>\n",
       "    <tr>\n",
       "      <th>0</th>\n",
       "      <td>studentlocaleducationagencykey</td>\n",
       "      <td>string</td>\n",
       "      <td>False</td>\n",
       "      <td></td>\n",
       "    </tr>\n",
       "    <tr>\n",
       "      <th>1</th>\n",
       "      <td>studentkey</td>\n",
       "      <td>bigint</td>\n",
       "      <td>False</td>\n",
       "      <td></td>\n",
       "    </tr>\n",
       "    <tr>\n",
       "      <th>2</th>\n",
       "      <td>localeducationagencykey</td>\n",
       "      <td>bigint</td>\n",
       "      <td>False</td>\n",
       "      <td></td>\n",
       "    </tr>\n",
       "    <tr>\n",
       "      <th>3</th>\n",
       "      <td>studentfirstname</td>\n",
       "      <td>string</td>\n",
       "      <td>False</td>\n",
       "      <td></td>\n",
       "    </tr>\n",
       "    <tr>\n",
       "      <th>4</th>\n",
       "      <td>studentmiddlename</td>\n",
       "      <td>string</td>\n",
       "      <td>False</td>\n",
       "      <td></td>\n",
       "    </tr>\n",
       "    <tr>\n",
       "      <th>5</th>\n",
       "      <td>studentlastname</td>\n",
       "      <td>string</td>\n",
       "      <td>False</td>\n",
       "      <td></td>\n",
       "    </tr>\n",
       "    <tr>\n",
       "      <th>6</th>\n",
       "      <td>limitedenglishproficiency</td>\n",
       "      <td>string</td>\n",
       "      <td>False</td>\n",
       "      <td></td>\n",
       "    </tr>\n",
       "    <tr>\n",
       "      <th>7</th>\n",
       "      <td>ishispanic</td>\n",
       "      <td>boolean</td>\n",
       "      <td>False</td>\n",
       "      <td></td>\n",
       "    </tr>\n",
       "    <tr>\n",
       "      <th>8</th>\n",
       "      <td>sex</td>\n",
       "      <td>string</td>\n",
       "      <td>False</td>\n",
       "      <td></td>\n",
       "    </tr>\n",
       "    <tr>\n",
       "      <th>9</th>\n",
       "      <td>lastmodifieddate</td>\n",
       "      <td>string</td>\n",
       "      <td>False</td>\n",
       "      <td></td>\n",
       "    </tr>\n",
       "    <tr>\n",
       "      <th>10</th>\n",
       "      <td>extractdate</td>\n",
       "      <td>string</td>\n",
       "      <td>True</td>\n",
       "      <td></td>\n",
       "    </tr>\n",
       "  </tbody>\n",
       "</table>\n",
       "</div>"
      ]
     },
     "metadata": {},
     "execution_count": 14
    }
   ],
   "metadata": {}
  }
 ],
 "metadata": {
  "orig_nbformat": 4,
  "language_info": {
   "name": "python"
  }
 },
 "nbformat": 4,
 "nbformat_minor": 2
}